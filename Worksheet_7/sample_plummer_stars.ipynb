{
 "cells": [
  {
   "cell_type": "code",
   "execution_count": 1,
   "id": "4e36fa41",
   "metadata": {},
   "outputs": [],
   "source": [
    "import numpy as np"
   ]
  },
  {
   "cell_type": "markdown",
   "id": "a405a4a3",
   "metadata": {},
   "source": [
    "# Sampling stars from a Plummer sphere\n",
    "### Formulas\n",
    "If we consider the **Plummer density** in dimensionless N-body units, then\n",
    "$$ \\rho = \\frac{3}{4\\pi}\\left(1+r^2 \\right)^{-5/2} $$\n",
    "so the 3D cumulative mass is\n",
    "$$ M(R) = \\int_0^{R} {\\rm d}r\\, 4\\pi r^2 \\rho = \\frac{R^3}{(1+R^2)^{3/2}}$$\n",
    "which can be inverted to yield the radius $R$ as a function of the enclosed mass $M$\n",
    "$$ R(M) = \\frac{M^{1/3}}{\\sqrt{1-M^{2/3}}}; \\qquad 0\\le M \\le 1$$"
   ]
  },
  {
   "cell_type": "markdown",
   "id": "f4082e2e",
   "metadata": {},
   "source": [
    "### Sample N stars through inversion sampling with explicit (closed mathematical form) inversion of the Plummer CDF"
   ]
  },
  {
   "cell_type": "code",
   "execution_count": 2,
   "id": "e8b64f80",
   "metadata": {},
   "outputs": [],
   "source": [
    "# initialise the random number generator\n",
    "rng = np.random.Generator(np.random.PCG64(seed=12345))"
   ]
  },
  {
   "cell_type": "code",
   "execution_count": 3,
   "id": "e82dd416",
   "metadata": {},
   "outputs": [],
   "source": [
    "# Sample isotropic 3d vectors with a given modulus\n",
    "def rand_vec3d( mod ):\n",
    "    N = len(mod)\n",
    "    phi = 2*np.pi*rng.random(size=N)\n",
    "    theta = np.arccos( 2*rng.random(size=N)-1 )\n",
    "    v3d = np.zeros( (N,3) )\n",
    "    v3d[:,0] = mod * np.cos( phi ) * np.sin( theta )\n",
    "    v3d[:,1] = mod * np.sin( phi ) * np.sin( theta )\n",
    "    v3d[:,2] = mod * np.cos( theta )\n",
    "    # subtract mean\n",
    "    for i in range(3):\n",
    "        v3d[:,i] -= np.mean(v3d[:,i])\n",
    "    return v3d"
   ]
  },
  {
   "cell_type": "code",
   "execution_count": 4,
   "id": "9cf58a14",
   "metadata": {},
   "outputs": [],
   "source": [
    "# number of stars\n",
    "N = 1000\n",
    "\n",
    "# particle mass is 1/N\n",
    "m = 1/N\n",
    "\n",
    "# Sampling the mass, draw radii through inversion sampling from the cumulative mass M\n",
    "U = rng.random(size=N)\n",
    "rsamp = U**(1/3)/np.sqrt((1-U**(2/3)))\n",
    "\n",
    "# create N empty 3D vectors\n",
    "x3d = rand_vec3d( rsamp )"
   ]
  },
  {
   "cell_type": "code",
   "execution_count": 5,
   "id": "355024b7",
   "metadata": {},
   "outputs": [
    {
     "data": {
      "text/plain": [
       "(-10.0, 10.0)"
      ]
     },
     "execution_count": 5,
     "metadata": {},
     "output_type": "execute_result"
    },
    {
     "data": {
      "image/png": "[encoded data removed]",
      "text/plain": [
       "<Figure size 400x400 with 1 Axes>"
      ]
     },
     "metadata": {},
     "output_type": "display_data"
    }
   ],
   "source": [
    "# make a scatter plot of the stars\n",
    "import matplotlib.pyplot as plt\n",
    "\n",
    "fig, ax = plt.subplots(figsize=(4, 4))\n",
    "ax.scatter(x3d[:,0], x3d[:,1], marker='.', s=1, c='b', alpha=0.5)\n",
    "ax.set_xlim(-10, 10)\n",
    "ax.set_ylim(-10, 10)"
   ]
  },
  {
   "cell_type": "code",
   "execution_count": null,
   "id": "52f12b99",
   "metadata": {},
   "outputs": [],
   "source": []
  }
 ],
 "metadata": {
  "kernelspec": {
   "display_name": "Python 3",
   "language": "python",
   "name": "python3"
  },
  "language_info": {
   "codemirror_mode": {
    "name": "ipython",
    "version": 3
   },
   "file_extension": ".py",
   "mimetype": "text/x-python",
   "name": "python",
   "nbconvert_exporter": "python",
   "pygments_lexer": "ipython3",
   "version": "3.13.1"
  }
 },
 "nbformat": 4,
 "nbformat_minor": 5
}
