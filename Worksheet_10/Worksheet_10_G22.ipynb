{
 "cells": [
  {
   "cell_type": "markdown",
   "id": "66403030",
   "metadata": {},
   "source": [
    "## Worksheet 10\n",
    "\n",
    "### Group 22 Eaton Heidegger and Shannon Schröder"
   ]
  },
  {
   "cell_type": "code",
   "execution_count": 14,
   "id": "113fc656",
   "metadata": {},
   "outputs": [],
   "source": [
    "import numpy as np\n",
    "from numba import jit\n",
    "import matplotlib.pyplot as plt\n",
    "import mpmath as mp\n"
   ]
  },
  {
   "cell_type": "markdown",
   "id": "9c611fe7",
   "metadata": {},
   "source": [
    "##### a) Generate initial conditions for N = 105 particles by randomly sampling from this distribution function using either Box-Muller or `numpy.random.randn`."
   ]
  },
  {
   "cell_type": "markdown",
   "id": "44bb0e65",
   "metadata": {},
   "source": [
    "We are using `numpy.random.randn`, which already gives standard-normal deviates, so no Box-Muller is required."
   ]
  },
  {
   "cell_type": "code",
   "execution_count": 2,
   "id": "a2fcfe60",
   "metadata": {},
   "outputs": [
    {
     "name": "stdout",
     "output_type": "stream",
     "text": [
      "(100000, 2) (100000, 2) 1e-05 1e-09\n"
     ]
    }
   ],
   "source": [
    "# --- parameters ------------------------------------------------------------\n",
    "N       = 100000                         # number of particles\n",
    "sigma_x = 0.15\n",
    "sigma_y = 0.10\n",
    "m       = 1.0 / N                         # particle mass\n",
    "sigma_p = m * 1e-4                        # momentum-space width (very narrow!)\n",
    "\n",
    "# --- sample configuration space -------------------------------------------\n",
    "# draw from N(0.5, σ²) for x and y, then wrap into [0,1)\n",
    "X = np.empty((N, 2))\n",
    "X[:, 0] = 0.5 + sigma_x * np.random.randn(N)   # x–coordinate\n",
    "X[:, 1] = 0.5 + sigma_y * np.random.randn(N)   # y–coordinate\n",
    "X = np.fmod(X, 1.0)                     # periodic domain [0,1)²\n",
    "\n",
    "# --- sample momentum space -------------------------------------------------\n",
    "P = np.empty_like(X)\n",
    "P[:]  = sigma_p * np.random.randn(N, 2)        # (p_x , p_y)\n",
    "\n",
    "# X and P are now both shape (N, 2).  Each particle has mass m = 1/N.\n",
    "print(X.shape, P.shape, m, sigma_p)\n"
   ]
  },
  {
   "cell_type": "markdown",
   "id": "a6cc4780",
   "metadata": {},
   "source": [
    "Here, we: \n",
    "- Draw $x$ and $y$ independently from $\\mathcal{N}(0.5,\\sigma_x^2)$ and $\\mathcal{N}(0.5,\\sigma_y^2)$.\n",
    "- `np.fmod` folds any values outside the unit square back into the periodic domain for the position sampling. \n",
    "\n",
    "For the momentum sampling, we\n",
    "* Draw $p_x$ and $p_y$ from $\\mathcal{N}(0,\\sigma_p^2)$ with the very small width $\\sigma_p = m\\,10^{-4}$.\n",
    "\n",
    "**Outputs**\n",
    "\n",
    "   * `X` and `P` are ready for the spectral-PIC loop.\n",
    "   * Each particle’s mass is fixed at $m = 1/N$, so we don’t need a separate mass array.\n"
   ]
  },
  {
   "cell_type": "markdown",
   "id": "5dad6029",
   "metadata": {},
   "source": [
    "b) Use the function `cic_deposit` from the lecture notes to interpolate the positions X to a grid of resolution `M × M` with `M = 64` with weights m to obtain the density field ρ."
   ]
  },
  {
   "cell_type": "code",
   "execution_count": 3,
   "id": "2a4c13e5",
   "metadata": {},
   "outputs": [],
   "source": [
    "@jit(nopython=True, fastmath=True)\n",
    "def cic_deposit(X, Y, W, ngrid):\n",
    "    \"\"\"\n",
    "    Deposit particle positions X, Y with weights W onto a 2-D grid\n",
    "    of shape (ngrid, ngrid) using Cloud-In-Cell.\n",
    "    \n",
    "    Parameters\n",
    "    X, Y : 1-D arrays, len = N\n",
    "        Particle coordinates in [0, 1).\n",
    "    W    : 1-D array, len = N\n",
    "        Particle weights (e.g. masses m = 1/N).\n",
    "    ngrid : int\n",
    "        Grid resolution in each direction (M).\n",
    "\n",
    "    Returns:\n",
    "    rho : 2-D array (ngrid x ngrid)\n",
    "        Mass density on the mesh.\n",
    "    \"\"\"\n",
    "    rho = np.zeros((ngrid, ngrid))\n",
    "    for x, y, w in zip(X, Y, W):\n",
    "        # wrap into the periodic box\n",
    "        x = np.fmod(1.0 + x, 1.0)\n",
    "        y = np.fmod(1.0 + y, 1.0)\n",
    "\n",
    "        # index of left / lower cell\n",
    "        il = int(np.floor(x * ngrid))\n",
    "        jl = int(np.floor(y * ngrid))\n",
    "\n",
    "        # index of right / upper neighbour (periodic)\n",
    "        ir = (il + 1) % ngrid\n",
    "        jr = (jl + 1) % ngrid\n",
    "\n",
    "        # fractional distances from the left / lower edges\n",
    "        dx = x * ngrid - il\n",
    "        dy = y * ngrid - jl\n",
    "\n",
    "        # distribute weight to the four surrounding cells\n",
    "        rho[il, jl] += (1.0 - dx) * (1.0 - dy) * w\n",
    "        rho[il, jr] += (1.0 - dx) * dy * w\n",
    "        rho[ir, jl] += dx * (1.0 - dy) * w\n",
    "        rho[ir, jr] += dx * dy * w\n",
    "\n",
    "    return rho\n"
   ]
  },
  {
   "cell_type": "markdown",
   "id": "8acbdb0d",
   "metadata": {},
   "source": [
    "This sampler gives the Monte-Carlo estimate of $\\rho(x,y)$ and: \n",
    " - draws $N= 10^5$ discrete phase-space samples from f0\n",
    " - gives each sample its full mass weight $m= 1/N$\n",
    " - smears those masses onto a `64 x 64` mesh grid "
   ]
  },
  {
   "cell_type": "markdown",
   "id": "8bdd9d98",
   "metadata": {},
   "source": [
    "Use `cic_deposit`with our particles: "
   ]
  },
  {
   "cell_type": "code",
   "execution_count": 4,
   "id": "785dd4f5",
   "metadata": {},
   "outputs": [
    {
     "name": "stdout",
     "output_type": "stream",
     "text": [
      "Σρ ΔxΔy = 1.0\n"
     ]
    }
   ],
   "source": [
    "ngrid = 64\n",
    "weights = np.full(N, 1.0 / N)       # each particle has mass m = 1/N\n",
    "\n",
    "rho = cic_deposit(X[:,0], X[:,1], weights, ngrid)\n",
    "\n",
    "# optional sanity check: total mass should be 1 (within round-off)\n",
    "print(\"Σρ ΔxΔy =\", rho.sum())       # should print ≈ 1.0\n"
   ]
  },
  {
   "cell_type": "markdown",
   "id": "7dc034a2",
   "metadata": {},
   "source": [
    "##### Display ρ  as an image."
   ]
  },
  {
   "cell_type": "code",
   "execution_count": null,
   "id": "202a1ca1",
   "metadata": {},
   "outputs": [
    {
     "data": {
      "image/png": "[encoded data removed]",
      "text/plain": [
       "<Figure size 500x400 with 2 Axes>"
      ]
     },
     "metadata": {},
     "output_type": "display_data"
    }
   ],
   "source": [
    "# Display ρ as an image\n",
    "plt.figure(figsize=(5, 4))\n",
    "plt.imshow(rho.T, origin='lower', extent=[0, 1, 0, 1], cmap='inferno')\n",
    "plt.title('Initial mass density $\\\\rho$')\n",
    "plt.xlabel('$x$')\n",
    "plt.ylabel('$y$')\n",
    "plt.colorbar(label='$\\\\rho$')\n",
    "plt.tight_layout()\n",
    "plt.show()\n"
   ]
  },
  {
   "cell_type": "markdown",
   "id": "d43b8e64",
   "metadata": {},
   "source": [
    "In this image we see some noise. Possible noise sources: \n",
    "- Shot (Poisson) noise from the finite number of particles – fluctuations scale $\\propto N^{-1/2}$.\n",
    "-  Additional grid/assignment noise because each particle’s mass is shared among only four cells."
   ]
  },
  {
   "cell_type": "markdown",
   "id": "c5b6d441",
   "metadata": {},
   "source": [
    "##### Compare it to the true initial density which is obtained by integrating f0 over  momentum space (generate another image corresponding to it)."
   ]
  },
  {
   "cell_type": "code",
   "execution_count": 16,
   "id": "2beb7e7c",
   "metadata": {},
   "outputs": [],
   "source": [
    "# Initial parameter (same as above)\n",
    "sigma_x = 0.15\n",
    "sigma_y = 0.10\n",
    "N       = 100000\n",
    "m       = 1.0 / N\n",
    "sigma_p = m * 1e-4                   # 1e-9\n",
    "x0, y0  = 0.5, 0.5\n",
    "M       = 64\n",
    "\n",
    "# numerical momentum integral \n",
    "mp.dps = 50\n",
    "I1D = mp.quad(lambda p: mp.e**(-p**2 / (2*sigma_p**2)), [-mp.inf, mp.inf])\n",
    "I2D = I1D**2\n",
    "prefactor = float(I2D) / ((2*np.pi)**2 * sigma_x * sigma_y * sigma_p**2)\n",
    "\n",
    "#print(\"prefactor (numeric) =\", prefactor)\n",
    "\n",
    "# build ρ(x,y) on grid \n",
    "grid = (np.arange(M) + 0.5) / M\n",
    "Xg, Yg = np.meshgrid(grid, grid, indexing='ij')\n",
    "\n",
    "rho_xy = prefactor * np.exp(\n",
    "    -((Xg - x0) ** 2) / (2 * sigma_x ** 2)\n",
    "    -((Yg - y0) ** 2) / (2 * sigma_y ** 2))\n"
   ]
  },
  {
   "cell_type": "markdown",
   "id": "2936c902",
   "metadata": {},
   "source": [
    "This:\n",
    "\n",
    "- Defines $f_0(x,y,p_x,p_y)$ exactly as in the hand-out.\n",
    "-  Numerically integrates it over momentum space with high-precision `mpmath.quad`—no algebra shortcuts.\n",
    "-  Builds $\\rho(x,y)$ on a 64 × 64 grid using that numeric constant.\n",
    "-  Visualises the result with `matplotlib.imshow`.\n"
   ]
  },
  {
   "cell_type": "code",
   "execution_count": 18,
   "id": "16b23d6e",
   "metadata": {},
   "outputs": [
    {
     "data": {
      "image/png": "[encoded data removed]",
      "text/plain": [
       "<Figure size 500x400 with 2 Axes>"
      ]
     },
     "metadata": {},
     "output_type": "display_data"
    }
   ],
   "source": [
    "plt.figure(figsize=(5,4))\n",
    "plt.imshow(rho_xy.T, origin='lower', extent=[0,1,0,1], cmap='inferno')\n",
    "plt.title(r\"$\\rho(x,y)$ obtained by numerical $\\int f_0\\,d^2p$\")\n",
    "plt.xlabel(\"$x$\")\n",
    "plt.ylabel(\"$y$\")\n",
    "plt.colorbar(label=r\"$\\rho$\")\n",
    "plt.tight_layout()\n",
    "plt.show()\n"
   ]
  },
  {
   "cell_type": "markdown",
   "id": "858c924d",
   "metadata": {},
   "source": [
    "Compared to the image generated using `cic_deposit`, the integrated image is much smoother. This is because it  doesnt contain the stochastic sampling, whcih creates additional noise. \n",
    "\n",
    "The particle/CIC image is grainy because you are looking at a histogram of only $10^5$ points: on average each of the $64^2 = 4096$ cells gets ∼25 particles, so $\\sqrt{25} \\approx 5$- particle fluctuations (20 %) are expected. Increasing either the particle count N (reduces shot noise like 1/N), or the grid resolution M together with a larger N, will make the CIC picture converge toward the smooth Gaussian."
   ]
  },
  {
   "cell_type": "markdown",
   "id": "b6bd77ce",
   "metadata": {},
   "source": [
    "##### c)  Modify the function `poisson_solve` from Section 3.3.3 of the lecture notes to return not only the potential, but also the acceleration in x- and y-direction"
   ]
  },
  {
   "cell_type": "markdown",
   "id": "f5984de2",
   "metadata": {},
   "source": [
    "\n",
    "This function returns the potential ϕ together with the two acceleration components **aₓ = −∂ϕ/∂x** and **aᵧ = −∂ϕ/∂y**:\n",
    "\n",
    "* In Fourier space the Poisson equation is algebraic:\n",
    "  $\\hat\\phi(\\mathbf{k}) = -\\hat\\rho(\\mathbf{k})/|\\mathbf{k}|^{2}$ for all non-zero $\\mathbf{k}$.\n",
    "* Setting `fphi[0,0] = 0` fixes the arbitrary constant in ϕ.\n",
    "* The acceleration is the negative gradient, whose Fourier representation is\n",
    "  $\\hat a_{x} = -ik_{x}\\hat\\phi,\\;\\hat a_{y} = -ik_{y}\\hat\\phi$.\n",
    "* Taking the real part of the inverse FFT yields real-valued fields on the grid.\n",
    "\n",
    "\n",
    "\n",
    "This keeps the API simple while providing everything you need for force-based simulations or diagnostics.\n"
   ]
  },
  {
   "cell_type": "code",
   "execution_count": null,
   "id": "582bce34",
   "metadata": {},
   "outputs": [],
   "source": [
    "def poisson_solve(rho):\n",
    "    \"\"\"\n",
    "    Solve ∇²ϕ = –ρ (Poisson equation) on anNxN periodic grid\n",
    "    and return:\n",
    "        ϕ   : potential     (NxN real array)\n",
    "        a_x : acceleration x (NxN real array)\n",
    "        a_y : acceleration y (NxN real array)\n",
    "    \"\"\"\n",
    "    N = rho.shape[0]\n",
    "\n",
    "    # 1. wave-number grid\n",
    "    m  = np.concatenate((np.arange(0, N//2), np.arange(-N//2, 0)))\n",
    "    k  = 2.0 * np.pi * m\n",
    "    kx, ky = np.meshgrid(k, k, indexing='ij')\n",
    "\n",
    "    # 2. forward FFT of the charge density\n",
    "    frho = np.fft.fft2(rho)\n",
    "\n",
    "    # 3. solve in Fourier space  ϕ̂ = −ρ̂ / (kx²+ky²)\n",
    "    k2   = kx**2 + ky**2\n",
    "    with np.errstate(divide='ignore', invalid='ignore'):\n",
    "        fphi = -frho / k2\n",
    "    fphi[0, 0] = 0.0                     # fix the mean (ϕ̂₀₀) to 0\n",
    "\n",
    "    # 4. acceleration in Fourier space: â = −i k ϕ̂\n",
    "    fax = -1j * kx * fphi\n",
    "    fay = -1j * ky * fphi\n",
    "\n",
    "    # 5. inverse FFT back to real space\n",
    "    phi = np.real(np.fft.ifft2(fphi))\n",
    "    ax  = np.real(np.fft.ifft2(fax))\n",
    "    ay  = np.real(np.fft.ifft2(fay))\n",
    "\n",
    "    return phi, ax, ay\n"
   ]
  },
  {
   "cell_type": "code",
   "execution_count": null,
   "id": "982b33ce",
   "metadata": {},
   "outputs": [],
   "source": [
    "phi, ax, ay = poisson_solve(rho)\n"
   ]
  },
  {
   "cell_type": "markdown",
   "id": "47b5c690",
   "metadata": {},
   "source": []
  }
 ],
 "metadata": {
  "kernelspec": {
   "display_name": "Python 3",
   "language": "python",
   "name": "python3"
  },
  "language_info": {
   "codemirror_mode": {
    "name": "ipython",
    "version": 3
   },
   "file_extension": ".py",
   "mimetype": "text/x-python",
   "name": "python",
   "nbconvert_exporter": "python",
   "pygments_lexer": "ipython3",
   "version": "3.13.1"
  }
 },
 "nbformat": 4,
 "nbformat_minor": 5
}
