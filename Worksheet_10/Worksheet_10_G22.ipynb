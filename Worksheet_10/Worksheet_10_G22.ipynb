{
 "cells": [
  {
   "cell_type": "markdown",
   "id": "66403030",
   "metadata": {},
   "source": [
    "## Worksheet 10\n",
    "\n",
    "### Group 22 Eaton Heidegger and Shannon Schröder"
   ]
  },
  {
   "cell_type": "code",
   "execution_count": 4,
   "id": "113fc656",
   "metadata": {},
   "outputs": [],
   "source": [
    "import numpy as np\n",
    "from numba import njit, jit\n"
   ]
  },
  {
   "cell_type": "markdown",
   "id": "9c611fe7",
   "metadata": {},
   "source": [
    "a) Generate initial conditions for N = 105 particles by randomly sampling from this distribution\n",
    " function using either Box-Muller or `numpy.random.randn`."
   ]
  },
  {
   "cell_type": "markdown",
   "id": "44bb0e65",
   "metadata": {},
   "source": [
    "We are using `numpy.random.randn`, which already gives standard-normal deviates, so no Box-Muller is required."
   ]
  },
  {
   "cell_type": "code",
   "execution_count": null,
   "id": "a2fcfe60",
   "metadata": {},
   "outputs": [
    {
     "name": "stdout",
     "output_type": "stream",
     "text": [
      "(100000, 2) (100000, 2) 1e-05 1e-09\n"
     ]
    }
   ],
   "source": [
    "# --- parameters ------------------------------------------------------------\n",
    "N       = 100_000                         # number of particles\n",
    "sigma_x = 0.15\n",
    "sigma_y = 0.10\n",
    "m       = 1.0 / N                         # particle mass\n",
    "sigma_p = m * 1e-4                        # momentum-space width (very narrow!)\n",
    "\n",
    "# --- sample configuration space -------------------------------------------\n",
    "# draw from N(0.5, σ²) for x and y, then wrap into [0,1)\n",
    "X = np.empty((N, 2))\n",
    "X[:, 0] = 0.5 + sigma_x * np.random.randn(N)   # x–coordinate\n",
    "X[:, 1] = 0.5 + sigma_y * np.random.randn(N)   # y–coordinate\n",
    "X = np.fmod(X, 1.0)                     # periodic domain [0,1)²\n",
    "\n",
    "# --- sample momentum space -------------------------------------------------\n",
    "P = np.empty_like(X)\n",
    "P[:]  = sigma_p * np.random.randn(N, 2)        # (p_x , p_y)\n",
    "\n",
    "# X and P are now both shape (N, 2).  Each particle has mass m = 1/N.\n",
    "print(X.shape, P.shape, m, sigma_p)\n"
   ]
  },
  {
   "cell_type": "markdown",
   "id": "a6cc4780",
   "metadata": {},
   "source": [
    "Here, we: \n",
    "- Draw $x$ and $y$ independently from $\\mathcal{N}(0.5,\\sigma_x^2)$ and $\\mathcal{N}(0.5,\\sigma_y^2)$.\n",
    "- `np.fmod` folds any values outside the unit square back into the periodic domain for the position sampling. \n",
    "\n",
    "For the momentum sampling, we\n",
    "* Draw $p_x$ and $p_y$ from $\\mathcal{N}(0,\\sigma_p^2)$ with the very small width $\\sigma_p = m\\,10^{-4}$.\n",
    "\n",
    "**Outputs**\n",
    "\n",
    "   * `X` and `P` are ready for the spectral-PIC loop.\n",
    "   * Each particle’s mass is fixed at $m = 1/N$, so we don’t need a separate mass array.\n"
   ]
  },
  {
   "cell_type": "markdown",
   "id": "5dad6029",
   "metadata": {},
   "source": [
    "b) Use the function `cic_deposit` from the lecture notes to interpolate the positions X to a grid of resolution M × M with M = 64 with weights m to obtain the density field ρ.\n",
    "\n",
    " Display ρ\n",
    " as an image. Compare it to the true initial density which is obtained by integrating f0 over\n",
    " momentum space (generate another image corresponding to it)."
   ]
  },
  {
   "cell_type": "code",
   "execution_count": null,
   "id": "6eea2a73",
   "metadata": {},
   "outputs": [],
   "source": []
  },
  {
   "cell_type": "markdown",
   "id": "6a286b99",
   "metadata": {},
   "source": []
  },
  {
   "cell_type": "code",
   "execution_count": null,
   "id": "92f679d3",
   "metadata": {},
   "outputs": [],
   "source": [
    "# CIC implementation from lecture\n",
    "@jit(nopython = True)\n",
    "def cic_deposit(X, Y, W, ngrid):\n",
    "    \"\"\"Deposit particle poitions X, Y with weights W onto 2D grid \n",
    "    of size ngrid x ngrid.\n",
    "    X, Y: 1D arrays of particle positions in [0,1)\n",
    "    W: 1D array of particle weights (e.g. mass * f0)\n",
    "    ngrid: number of grid cells in each dimenstion\n",
    "    \"\"\"\n",
    "    rho = np.zeros((ngrid, ngrid))\n",
    "    for x,y,w in zip(X, Y, W):\n",
    "        x = np.fmod(1.0 +x,1.0)\n",
    "        y = np.fmod(1.0+y,1.0)\n",
    "\n",
    "        il = int(np.floor(x*ngrid))\n",
    "        ir = (il+1) %ngrid\n",
    "        jl = int(np.floor(y*ngrid))\n",
    "        jr = (jl+q) %ngrid\n",
    "\n",
    "        dx = x*ngrid-float(il)\n",
    "        dy = y*ngrid-fleat(jl)\n",
    "\n",
    "        rho[il, jl] += (1-dx) * (1-dy) * W\n",
    "        rho[il ]\n",
    "\n",
    "\n",
    "\n",
    "\n",
    "\n",
    "    "
   ]
  },
  {
   "cell_type": "code",
   "execution_count": null,
   "id": "202a1ca1",
   "metadata": {},
   "outputs": [],
   "source": []
  },
  {
   "cell_type": "code",
   "execution_count": null,
   "id": "bf2d8760",
   "metadata": {},
   "outputs": [],
   "source": []
  }
 ],
 "metadata": {
  "kernelspec": {
   "display_name": "Python 3",
   "language": "python",
   "name": "python3"
  },
  "language_info": {
   "codemirror_mode": {
    "name": "ipython",
    "version": 3
   },
   "file_extension": ".py",
   "mimetype": "text/x-python",
   "name": "python",
   "nbconvert_exporter": "python",
   "pygments_lexer": "ipython3",
   "version": "3.13.1"
  }
 },
 "nbformat": 4,
 "nbformat_minor": 5
}
