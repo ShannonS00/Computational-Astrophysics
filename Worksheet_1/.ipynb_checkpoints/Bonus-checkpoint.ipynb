{
 "cells": [
  {
   "cell_type": "code",
   "execution_count": null,
   "id": "a260fa62",
   "metadata": {},
   "outputs": [],
   "source": [
    "import numpy as np\n",
    "import os\n",
    "import time\n",
    "import matplotlib.pyplot as plt\n",
    "import scipy\n",
    "import matplotlib\n",
    "import sympy\n",
    "import numba\n",
    "from numba import njit, prange , set_num_threads, get_num_threads\n",
    "from typing import Callable\n",
    "from mpi4py import MPI\n",
    "import jax\n",
    "import jax.numpy as jnp"
   ]
  },
  {
   "cell_type": "markdown",
   "id": "b1c8a684",
   "metadata": {},
   "source": [
    "## Bonus 1"
   ]
  },
  {
   "cell_type": "code",
   "execution_count": null,
   "id": "5d202c1a",
   "metadata": {},
   "outputs": [],
   "source": [
    "comm = MPI.COMM_WORLD\n",
    "rank = comm.Get_rank()\n",
    "size = comm.Get_size()\n",
    "os.environ[\"NUMBA_NUM_THREADS\"] = str(size)"
   ]
  },
  {
   "cell_type": "code",
   "execution_count": null,
   "id": "334cd9db",
   "metadata": {},
   "outputs": [],
   "source": [
    "def get_acceleration_mpi(X: np.ndarray) -> np.ndarray:\n",
    "    \n",
    "    N = X.shape[0]\n",
    "    local_N = N // size\n",
    "    start = rank * local_N\n",
    "    end = (rank + 1) * local_N if rank != size - 1 else N\n",
    "    \n",
    "    local_a = np.zeros((N, 3))\n",
    "    \n",
    "    for i in range(start, end):\n",
    "        for j in range(N):\n",
    "            if i != j:\n",
    "                r_ij = X[j] - X[i]\n",
    "                dist = np.linalg.norm(r_ij)\n",
    "                if dist > 0:\n",
    "                    local_a[i] += r_ij / dist**3\n",
    "    \n",
    "    a = np.zeros((N, 3))\n",
    "    comm.Allreduce(local_a, a, op=MPI.SUM)\n",
    "    \n",
    "    return a"
   ]
  },
  {
   "cell_type": "code",
   "execution_count": null,
   "id": "3ec1ade4",
   "metadata": {},
   "outputs": [],
   "source": [
    "def measure_mpi_scaling(N_values):\n",
    "    times_mpi = []\n",
    "    \n",
    "    for N in N_values:\n",
    "        X = np.random.randn(N, 3)\n",
    "        \n",
    "        start_time = time.perf_counter()\n",
    "        get_acceleration_mpi(X)\n",
    "        end_time = time.perf_counter()\n",
    "        \n",
    "        times_mpi.append(end_time - start_time)\n",
    "        \n",
    "    return times_mpi"
   ]
  },
  {
   "cell_type": "code",
   "execution_count": null,
   "id": "4a1391e0",
   "metadata": {},
   "outputs": [],
   "source": [
    "def speedup_val(N_values, times_numba_parallel, times_mpi):\n",
    "    speedup_factors = np.array(times_numba_parallel) / np.array(times_mpi)\n",
    "    return print(\"Speedup Factors (Numba Parallel / MPI):\", speedup_factors)"
   ]
  },
  {
   "cell_type": "code",
   "execution_count": null,
   "id": "2d6fc395",
   "metadata": {},
   "outputs": [],
   "source": [
    "def plot_comparison(N_values, times_numba_parallel, times_mpi):\n",
    "    plt.figure()\n",
    "    plt.loglog(N_values, times_numba_parallel, marker='o', linestyle='-', label='Numba Parallel')\n",
    "    plt.loglog(N_values, times_mpi, marker='s', linestyle='-', label='MPI')\n",
    "    plt.xlabel('Number of Bodies (N)')\n",
    "    plt.ylabel('Execution Time (s)')\n",
    "    plt.legend()\n",
    "    plt.title('MPI vs. Numba Parallel Performance')\n",
    "    plt.show()"
   ]
  },
  {
   "cell_type": "code",
   "execution_count": null,
   "id": "cdb8e787",
   "metadata": {},
   "outputs": [],
   "source": [
    "# Define problem sizes\n",
    "N_values = [10, 50, 100, 200, 500, 1000]\n",
    "\n",
    "times_numba_parallel = measure_parallel_scaling(N_values)\n",
    "times_mpi = measure_mpi_scaling(N_values)\n",
    "\n",
    "plot_comparison(N_values, times_numba_parallel, times_mpi)\n",
    "speedup_val(N_values, times_numba_parallel, times_mpi)"
   ]
  },
  {
   "cell_type": "markdown",
   "id": "09868e05",
   "metadata": {},
   "source": [
    "### Bonus 2"
   ]
  },
  {
   "cell_type": "code",
   "execution_count": null,
   "id": "d7828a1a",
   "metadata": {},
   "outputs": [],
   "source": [
    "# Function to compute the acceleration (gravitational) on GPU using JAX\n",
    "def get_acceleration_jax(X: jnp.ndarray) -> jnp.ndarray:\n",
    "    N = X.shape[0]\n",
    "    a = jnp.zeros_like(X)  # Initialize acceleration array\n",
    "\n",
    "    # Compute the acceleration in a vectorized way\n",
    "    for i in range(N):\n",
    "        r_ij = X - X[i]  # Vector from i to each j\n",
    "        distances = jnp.linalg.norm(r_ij, axis=1)  # Compute distance between i and each j\n",
    "        # Avoid division by zero by setting very small distances to a large value\n",
    "        distances = jnp.where(distances == 0, jnp.inf, distances)\n",
    "        a = a.at[i].add(jnp.sum(r_ij / distances[:, None]**3, axis=0))  # Update acceleration\n",
    "\n",
    "    return a"
   ]
  },
  {
   "cell_type": "code",
   "execution_count": null,
   "id": "39398adf",
   "metadata": {},
   "outputs": [],
   "source": [
    "# Generate random data (e.g., 1000 particles with 3D coordinates)\n",
    "X = jnp.array(np.random.rand(1000, 3))\n",
    "\n",
    "# Run the acceleration computation\n",
    "a_jax = get_acceleration_jax(X)\n",
    "\n",
    "# Check the device being used by JAX\n",
    "print(f\"JAX is running on device: {jax.devices()}\")"
   ]
  },
  {
   "cell_type": "code",
   "execution_count": null,
   "id": "ecb8c0f6",
   "metadata": {},
   "outputs": [],
   "source": [
    "# Measure performance for JAX version\n",
    "start = time.time()\n",
    "a_jax_vectorized = get_acceleration_jax_vectorized(X)\n",
    "jax_time = time.time() - start\n",
    "print(f\"JAX vectorized version time: {jax_time:.4f} seconds\")"
   ]
  }
 ],
 "metadata": {
  "kernelspec": {
   "display_name": "Python 3 (ipykernel)",
   "language": "python",
   "name": "python3"
  },
  "language_info": {
   "codemirror_mode": {
    "name": "ipython",
    "version": 3
   },
   "file_extension": ".py",
   "mimetype": "text/x-python",
   "name": "python",
   "nbconvert_exporter": "python",
   "pygments_lexer": "ipython3",
   "version": "3.9.19"
  }
 },
 "nbformat": 4,
 "nbformat_minor": 5
}
